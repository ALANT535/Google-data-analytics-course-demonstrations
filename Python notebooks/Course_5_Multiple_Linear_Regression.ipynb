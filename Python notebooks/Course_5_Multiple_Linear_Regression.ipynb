{
 "cells": [
  {
   "cell_type": "markdown",
   "metadata": {
    "id": "3efad4c7-d34f-44b0-a48d-94651f931bae"
   },
   "source": [
    "# Activity: Perform multiple linear regression\n"
   ]
  },
  {
   "cell_type": "markdown",
   "metadata": {
    "id": "2faf7b57-5c13-45e5-b666-d575eff0d17c"
   },
   "source": [
    "## Introduction"
   ]
  },
  {
   "cell_type": "markdown",
   "metadata": {
    "id": "2ca9aca5-33e0-4aa7-acdb-05832b05e5a9"
   },
   "source": [
    "As you have learned, multiple linear regression helps you estimate the linear relationship between one continuous dependent variable and two or more independent variables. For data science professionals, this is a useful skill because it allows you to compare more than one variable to the variable you're measuring against. This provides the opportunity for much more thorough and flexible analysis. \n",
    "\n",
    "For this activity, you will be analyzing a small business' historical marketing promotion data. Each row corresponds to an independent marketing promotion where their business uses TV, social media, radio, and influencer promotions to increase sales. They previously had you work on finding a single variable that predicts sales, and now they are hoping to expand this analysis to include other variables that can help them target their marketing efforts.\n",
    "\n",
    "To address the business' request, you will conduct a multiple linear regression analysis to estimate sales from a combination of independent variables. This will include:\n",
    "\n",
    "* Exploring and cleaning data\n",
    "* Using plots and descriptive statistics to select the independent variables\n",
    "* Creating a fitting multiple linear regression model\n",
    "* Checking model assumptions\n",
    "* Interpreting model outputs and communicating the results to non-technical stakeholders"
   ]
  },
  {
   "cell_type": "markdown",
   "metadata": {
    "id": "bfcf5ec2-e48b-4443-9bf6-72670bd60041"
   },
   "source": [
    "## Step 1: Imports"
   ]
  },
  {
   "cell_type": "markdown",
   "metadata": {
    "id": "9d3f02aa-20dd-4844-baad-c080e7d5c48d"
   },
   "source": [
    "### Import packages"
   ]
  },
  {
   "cell_type": "markdown",
   "metadata": {
    "id": "7dcaa8a0-4fe8-4816-9ef5-5fc665a4638f"
   },
   "source": [
    "Import relevant Python libraries and modules."
   ]
  },
  {
   "cell_type": "code",
   "execution_count": 6,
   "metadata": {
    "id": "b2f4b9fa-b7bd-4b88-8c71-d3af5ddcb906"
   },
   "outputs": [],
   "source": [
    "import pandas as pd\n",
    "import numpy as np\n",
    "import statsmodels.api as sm\n",
    "from statsmodels.formula.api import ols\n",
    "import seaborn as sns"
   ]
  },
  {
   "cell_type": "markdown",
   "metadata": {
    "id": "84d9d20a-4ea9-4f2d-a633-b21420f47eeb"
   },
   "source": [
    "### Load dataset"
   ]
  },
  {
   "cell_type": "markdown",
   "metadata": {
    "id": "b05c77e3-9f0f-4245-a683-07be022e2cd6"
   },
   "source": [
    "`Pandas` was used to load the dataset `marketing_sales_data.csv` as `data`, now display the first five rows. The variables in the dataset have been adjusted to suit the objectives of this lab. As shown in this cell, the dataset has been automatically loaded in for you. You do not need to download the .csv file, or provide more code, in order to access the dataset and proceed with this lab. Please continue with this activity by completing the following instructions."
   ]
  },
  {
   "cell_type": "code",
   "execution_count": 4,
   "metadata": {
    "id": "32d46d82-2bd6-4433-b56e-cfa5542949ca"
   },
   "outputs": [
    {
     "data": {
      "text/html": [
       "<div>\n",
       "<style scoped>\n",
       "    .dataframe tbody tr th:only-of-type {\n",
       "        vertical-align: middle;\n",
       "    }\n",
       "\n",
       "    .dataframe tbody tr th {\n",
       "        vertical-align: top;\n",
       "    }\n",
       "\n",
       "    .dataframe thead th {\n",
       "        text-align: right;\n",
       "    }\n",
       "</style>\n",
       "<table border=\"1\" class=\"dataframe\">\n",
       "  <thead>\n",
       "    <tr style=\"text-align: right;\">\n",
       "      <th></th>\n",
       "      <th>TV</th>\n",
       "      <th>Radio</th>\n",
       "      <th>Social Media</th>\n",
       "      <th>Influencer</th>\n",
       "      <th>Sales</th>\n",
       "    </tr>\n",
       "  </thead>\n",
       "  <tbody>\n",
       "    <tr>\n",
       "      <th>0</th>\n",
       "      <td>Low</td>\n",
       "      <td>3.518070</td>\n",
       "      <td>2.293790</td>\n",
       "      <td>Micro</td>\n",
       "      <td>55.261284</td>\n",
       "    </tr>\n",
       "    <tr>\n",
       "      <th>1</th>\n",
       "      <td>Low</td>\n",
       "      <td>7.756876</td>\n",
       "      <td>2.572287</td>\n",
       "      <td>Mega</td>\n",
       "      <td>67.574904</td>\n",
       "    </tr>\n",
       "    <tr>\n",
       "      <th>2</th>\n",
       "      <td>High</td>\n",
       "      <td>20.348988</td>\n",
       "      <td>1.227180</td>\n",
       "      <td>Micro</td>\n",
       "      <td>272.250108</td>\n",
       "    </tr>\n",
       "    <tr>\n",
       "      <th>3</th>\n",
       "      <td>Medium</td>\n",
       "      <td>20.108487</td>\n",
       "      <td>2.728374</td>\n",
       "      <td>Mega</td>\n",
       "      <td>195.102176</td>\n",
       "    </tr>\n",
       "    <tr>\n",
       "      <th>4</th>\n",
       "      <td>High</td>\n",
       "      <td>31.653200</td>\n",
       "      <td>7.776978</td>\n",
       "      <td>Nano</td>\n",
       "      <td>273.960377</td>\n",
       "    </tr>\n",
       "  </tbody>\n",
       "</table>\n",
       "</div>"
      ],
      "text/plain": [
       "       TV      Radio  Social Media Influencer       Sales\n",
       "0     Low   3.518070      2.293790      Micro   55.261284\n",
       "1     Low   7.756876      2.572287       Mega   67.574904\n",
       "2    High  20.348988      1.227180      Micro  272.250108\n",
       "3  Medium  20.108487      2.728374       Mega  195.102176\n",
       "4    High  31.653200      7.776978       Nano  273.960377"
      ]
     },
     "execution_count": 4,
     "metadata": {},
     "output_type": "execute_result"
    }
   ],
   "source": [
    "# RUN THIS CELL TO IMPORT YOUR DATA.\n",
    "\n",
    "### YOUR CODE HERE ### \n",
    "data = pd.read_csv('marketing_sales_data.csv')\n",
    "\n",
    "# Display the first five rows.\n",
    "\n",
    "data.head()\n"
   ]
  },
  {
   "cell_type": "markdown",
   "metadata": {
    "id": "fd47ede7-63ff-4fe5-aeb0-b8f909e9ecbe"
   },
   "source": [
    "## Step 2: Data exploration"
   ]
  },
  {
   "cell_type": "markdown",
   "metadata": {},
   "source": [
    "### Familiarize yourself with the data's features\n",
    "\n",
    "Start with an exploratory data analysis to familiarize yourself with the data and prepare it for modeling.\n",
    "\n",
    "The features in the data are:\n",
    "\n",
    "* TV promotional budget (in \"Low,\" \"Medium,\" and \"High\" categories)\n",
    "* Social media promotional budget (in millions of dollars)\n",
    "* Radio promotional budget (in millions of dollars)\n",
    "* Sales (in millions of dollars)\n",
    "* Influencer size (in \"Mega,\" \"Macro,\" \"Micro,\" and \"Nano\" categories)\n"
   ]
  },
  {
   "cell_type": "markdown",
   "metadata": {},
   "source": [
    "**Question:** What are some purposes of EDA before constructing a multiple linear regression model?"
   ]
  },
  {
   "cell_type": "markdown",
   "metadata": {},
   "source": [
    "Helps to better understand the data so that we can work on it smoothly without any issue. We should clarify what each data variable means and what method it was collected under. "
   ]
  },
  {
   "cell_type": "markdown",
   "metadata": {
    "id": "3f63f855-1dac-415b-a303-4f66fc39322c"
   },
   "source": [
    "### Create a pairplot of the data\n",
    "\n",
    "Create a pairplot to visualize the relationship between the continous variables in `data`."
   ]
  },
  {
   "cell_type": "code",
   "execution_count": 7,
   "metadata": {
    "id": "518254a6-44d5-45bf-9b57-13ce3a4deab3"
   },
   "outputs": [
    {
     "data": {
      "text/plain": [
       "<seaborn.axisgrid.PairGrid at 0x71dc61e46050>"
      ]
     },
     "execution_count": 7,
     "metadata": {},
     "output_type": "execute_result"
    },
    {
     "data": {
      "image/png": "[encoded data removed]",
      "text/plain": [
       "<Figure size 540x540 with 12 Axes>"
      ]
     },
     "metadata": {
      "needs_background": "light"
     },
     "output_type": "display_data"
    }
   ],
   "source": [
    "sns.pairplot(data)"
   ]
  },
  {
   "cell_type": "markdown",
   "metadata": {
    "id": "93223044-e133-4d60-ab37-d792ca43c234"
   },
   "source": [
    "<details>\n",
    "<summary><h4><strong>Hint 1</strong></h4></summary>\n",
    "\n",
    "Refer to [the content where creating a pairplot is demonstrated](https://www.coursera.org/learn/regression-analysis-simplify-complex-data-relationships/item/dnjWm).\n",
    "\n",
    "</details>\n"
   ]
  },
  {
   "cell_type": "markdown",
   "metadata": {
    "id": "fb6bfb6f-35b6-427e-8d58-8ae5f25c5b9f"
   },
   "source": [
    "<details>\n",
    "<summary><h4><strong>Hint 2</strong></h4></summary>\n",
    "\n",
    "Use the function in the `seaborn` library that allows you to create a pairplot showing the relationships between variables in the data.\n",
    "\n",
    "</details>\n"
   ]
  },
  {
   "cell_type": "markdown",
   "metadata": {
    "id": "672bccbf-ffc6-4999-8153-12d658341f56"
   },
   "source": [
    "<details>\n",
    "<summary><h4><strong>Hint 3</strong></h4></summary>\n",
    "\n",
    "Use the `pairplot()` function from the `seaborn` library and pass in the entire DataFrame.\n",
    "\n",
    "</details>\n"
   ]
  },
  {
   "cell_type": "markdown",
   "metadata": {
    "id": "043e38a8-35fe-4c4e-b278-f3dab9b897da"
   },
   "source": [
    "**Question:** Which variables have a linear relationship with `Sales`? Why are some variables in the data excluded from the preceding plot?\n",
    "\n"
   ]
  },
  {
   "cell_type": "markdown",
   "metadata": {
    "id": "1AsrnNkd4hl9"
   },
   "source": [
    "Radio and Social Media both have a linear relation with Sales and it may be interesting to combine their effects."
   ]
  },
  {
   "cell_type": "markdown",
   "metadata": {
    "id": "af82ed3e-be07-47a2-8531-ac759b607dd7"
   },
   "source": [
    "### Calculate the mean sales for each categorical variable"
   ]
  },
  {
   "cell_type": "markdown",
   "metadata": {
    "id": "63116e2d-3453-478e-a98e-8564ff72829c"
   },
   "source": [
    "There are two categorical variables: `TV` and `Influencer`. To characterize the relationship between the categorical variables and `Sales`, find the mean `Sales` for each category in `TV` and the mean `Sales` for each category in `Influencer`. "
   ]
  },
  {
   "cell_type": "code",
   "execution_count": 16,
   "metadata": {
    "id": "cf770bc2-d2fd-4441-99b0-94ac2e704f90"
   },
   "outputs": [
    {
     "data": {
      "text/plain": [
       "TV\n",
       "High      300.853195\n",
       "Low        90.984101\n",
       "Medium    195.358032\n",
       "Name: Sales, dtype: float64"
      ]
     },
     "execution_count": 16,
     "metadata": {},
     "output_type": "execute_result"
    }
   ],
   "source": [
    "# Calculate the mean sales for each TV category. \n",
    "\n",
    "data.groupby([\"TV\"])[\"Sales\"].mean()"
   ]
  },
  {
   "cell_type": "code",
   "execution_count": 22,
   "metadata": {},
   "outputs": [
    {
     "data": {
      "text/html": [
       "<div>\n",
       "<style scoped>\n",
       "    .dataframe tbody tr th:only-of-type {\n",
       "        vertical-align: middle;\n",
       "    }\n",
       "\n",
       "    .dataframe tbody tr th {\n",
       "        vertical-align: top;\n",
       "    }\n",
       "\n",
       "    .dataframe thead th {\n",
       "        text-align: right;\n",
       "    }\n",
       "</style>\n",
       "<table border=\"1\" class=\"dataframe\">\n",
       "  <thead>\n",
       "    <tr style=\"text-align: right;\">\n",
       "      <th></th>\n",
       "      <th>Radio</th>\n",
       "      <th>Social Media</th>\n",
       "      <th>Sales</th>\n",
       "    </tr>\n",
       "    <tr>\n",
       "      <th>Influencer</th>\n",
       "      <th></th>\n",
       "      <th></th>\n",
       "      <th></th>\n",
       "    </tr>\n",
       "  </thead>\n",
       "  <tbody>\n",
       "    <tr>\n",
       "      <th>Mega</th>\n",
       "      <td>18.111199</td>\n",
       "      <td>3.596909</td>\n",
       "      <td>194.487941</td>\n",
       "    </tr>\n",
       "    <tr>\n",
       "      <th>Nano</th>\n",
       "      <td>17.756665</td>\n",
       "      <td>3.435722</td>\n",
       "      <td>191.874432</td>\n",
       "    </tr>\n",
       "    <tr>\n",
       "      <th>Micro</th>\n",
       "      <td>17.547149</td>\n",
       "      <td>3.139333</td>\n",
       "      <td>188.321846</td>\n",
       "    </tr>\n",
       "    <tr>\n",
       "      <th>Macro</th>\n",
       "      <td>16.560175</td>\n",
       "      <td>3.155207</td>\n",
       "      <td>181.670070</td>\n",
       "    </tr>\n",
       "  </tbody>\n",
       "</table>\n",
       "</div>"
      ],
      "text/plain": [
       "                Radio  Social Media       Sales\n",
       "Influencer                                     \n",
       "Mega        18.111199      3.596909  194.487941\n",
       "Nano        17.756665      3.435722  191.874432\n",
       "Micro       17.547149      3.139333  188.321846\n",
       "Macro       16.560175      3.155207  181.670070"
      ]
     },
     "execution_count": 22,
     "metadata": {},
     "output_type": "execute_result"
    }
   ],
   "source": [
    "# Calculate the mean sales for each Influencer category.\n",
    "\n",
    "data.groupby([\"Influencer\"]).mean().sort_values([\"Sales\"],ascending = False)"
   ]
  },
  {
   "cell_type": "markdown",
   "metadata": {
    "id": "75cca644-b19a-4a48-b99e-e5261de0ac7c"
   },
   "source": [
    "<details>\n",
    "<summary><h4><strong>Hint 1</strong></h4></summary>\n",
    "\n",
    "Find the mean `Sales` when the `TV` promotion is `High`, `Medium`, or `Low`.\n",
    "    \n",
    "Find the mean `Sales` when the `Influencer` promotion is `Macro`, `Mega`, `Micro`, or `Nano`.  \n",
    "\n",
    "</details>"
   ]
  },
  {
   "cell_type": "markdown",
   "metadata": {
    "id": "66d8f2bb-3eac-487f-8357-ffe1c69fb1a7"
   },
   "source": [
    "<details>\n",
    "<summary><h4><strong>Hint 2</strong></h4></summary>\n",
    "\n",
    "Use the `groupby` operation in `pandas` to split an object (e.g., data) into groups and apply a calculation to each group.\n",
    "\n",
    "</details>"
   ]
  },
  {
   "cell_type": "markdown",
   "metadata": {
    "id": "84b3354e-a688-469f-9891-677d935eddd2"
   },
   "source": [
    "<details>\n",
    "<summary><h4><strong>Hint 3</strong></h4></summary>\n",
    "\n",
    "To calculate the mean `Sales` for each `TV` category, group by `TV`, select the `Sales` column, and then calculate the mean. \n",
    "    \n",
    "Apply the same process to calculate the mean `Sales` for each `Influencer` category.\n",
    "\n",
    "</details>"
   ]
  },
  {
   "cell_type": "markdown",
   "metadata": {
    "id": "e415aa95-0650-47e0-9efd-2770b8dfcb3d"
   },
   "source": [
    "**Question:** What do you notice about the categorical variables? Could they be useful predictors of `Sales`?\n",
    "\n"
   ]
  },
  {
   "cell_type": "markdown",
   "metadata": {
    "id": "2-NgZvWJ4ijo"
   },
   "source": [
    "TV follows a linear trend and may be a strong predictor variable for Sales.\n",
    "\n",
    "Influencer on the other hand doesnt vary linearly with Sales and so maybe a poor predictor."
   ]
  },
  {
   "cell_type": "markdown",
   "metadata": {
    "id": "0f4adbee-9d13-400a-99e6-6d4c482b8e17"
   },
   "source": [
    "### Remove missing data\n",
    "\n",
    "This dataset contains rows with missing values. To correct this, drop all rows that contain missing data."
   ]
  },
  {
   "cell_type": "code",
   "execution_count": 24,
   "metadata": {
    "id": "498e546b-e90e-4b84-a7d7-12b3bb514c1d"
   },
   "outputs": [],
   "source": [
    "data = data.dropna(axis = 0)"
   ]
  },
  {
   "cell_type": "markdown",
   "metadata": {
    "id": "e37d7507-1f3d-4432-912e-ced7feff4ac6"
   },
   "source": [
    "<details>\n",
    "<summary><h4><strong>Hint 1</strong></h4></summary>\n",
    "\n",
    "Use the `pandas` function that removes missing values.\n",
    "\n",
    "</details>"
   ]
  },
  {
   "cell_type": "markdown",
   "metadata": {
    "id": "19cd01e1-9976-47f6-b25c-7b8ce2a05627"
   },
   "source": [
    "<details>\n",
    "<summary><h4><strong>Hint 2</strong></h4></summary>\n",
    "\n",
    "The `dropna()` function removes missing values from an object (e.g., DataFrame).\n",
    "\n",
    "</details>"
   ]
  },
  {
   "cell_type": "markdown",
   "metadata": {
    "id": "87a46eec-9d3e-4657-bf91-6b3bd02089f0"
   },
   "source": [
    "<details>\n",
    "<summary><h4><strong>Hint 3</strong></h4></summary>\n",
    "\n",
    "Use `data.dropna(axis=0)` to drop all rows with missing values in `data`. Be sure to properly update the DataFrame.\n",
    "\n",
    "</details>"
   ]
  },
  {
   "cell_type": "markdown",
   "metadata": {
    "id": "6c77f884-a459-4083-ac2f-abfd2d476f28"
   },
   "source": [
    "### Clean column names"
   ]
  },
  {
   "cell_type": "markdown",
   "metadata": {
    "id": "f1235ced-59ff-46e0-9120-c52517ec89d1"
   },
   "source": [
    "The `ols()` function doesn't run when variable names contain a space. Check that the column names in `data` do not contain spaces and fix them, if needed."
   ]
  },
  {
   "cell_type": "code",
   "execution_count": 25,
   "metadata": {},
   "outputs": [
    {
     "data": {
      "text/html": [
       "<div>\n",
       "<style scoped>\n",
       "    .dataframe tbody tr th:only-of-type {\n",
       "        vertical-align: middle;\n",
       "    }\n",
       "\n",
       "    .dataframe tbody tr th {\n",
       "        vertical-align: top;\n",
       "    }\n",
       "\n",
       "    .dataframe thead th {\n",
       "        text-align: right;\n",
       "    }\n",
       "</style>\n",
       "<table border=\"1\" class=\"dataframe\">\n",
       "  <thead>\n",
       "    <tr style=\"text-align: right;\">\n",
       "      <th></th>\n",
       "      <th>TV</th>\n",
       "      <th>Radio</th>\n",
       "      <th>Social Media</th>\n",
       "      <th>Influencer</th>\n",
       "      <th>Sales</th>\n",
       "    </tr>\n",
       "  </thead>\n",
       "  <tbody>\n",
       "    <tr>\n",
       "      <th>0</th>\n",
       "      <td>Low</td>\n",
       "      <td>3.518070</td>\n",
       "      <td>2.293790</td>\n",
       "      <td>Micro</td>\n",
       "      <td>55.261284</td>\n",
       "    </tr>\n",
       "    <tr>\n",
       "      <th>1</th>\n",
       "      <td>Low</td>\n",
       "      <td>7.756876</td>\n",
       "      <td>2.572287</td>\n",
       "      <td>Mega</td>\n",
       "      <td>67.574904</td>\n",
       "    </tr>\n",
       "    <tr>\n",
       "      <th>2</th>\n",
       "      <td>High</td>\n",
       "      <td>20.348988</td>\n",
       "      <td>1.227180</td>\n",
       "      <td>Micro</td>\n",
       "      <td>272.250108</td>\n",
       "    </tr>\n",
       "    <tr>\n",
       "      <th>3</th>\n",
       "      <td>Medium</td>\n",
       "      <td>20.108487</td>\n",
       "      <td>2.728374</td>\n",
       "      <td>Mega</td>\n",
       "      <td>195.102176</td>\n",
       "    </tr>\n",
       "    <tr>\n",
       "      <th>4</th>\n",
       "      <td>High</td>\n",
       "      <td>31.653200</td>\n",
       "      <td>7.776978</td>\n",
       "      <td>Nano</td>\n",
       "      <td>273.960377</td>\n",
       "    </tr>\n",
       "  </tbody>\n",
       "</table>\n",
       "</div>"
      ],
      "text/plain": [
       "       TV      Radio  Social Media Influencer       Sales\n",
       "0     Low   3.518070      2.293790      Micro   55.261284\n",
       "1     Low   7.756876      2.572287       Mega   67.574904\n",
       "2    High  20.348988      1.227180      Micro  272.250108\n",
       "3  Medium  20.108487      2.728374       Mega  195.102176\n",
       "4    High  31.653200      7.776978       Nano  273.960377"
      ]
     },
     "execution_count": 25,
     "metadata": {},
     "output_type": "execute_result"
    }
   ],
   "source": [
    "data.head()"
   ]
  },
  {
   "cell_type": "code",
   "execution_count": 26,
   "metadata": {
    "id": "ac28fd29-44d9-4842-9c94-0aa9bd8ebb04"
   },
   "outputs": [],
   "source": [
    "data.columns = [\"TV\",\"Radio\",\"Social_Media\",\"Influencer\",\"Sales\"]"
   ]
  },
  {
   "cell_type": "code",
   "execution_count": 27,
   "metadata": {},
   "outputs": [
    {
     "data": {
      "text/html": [
       "<div>\n",
       "<style scoped>\n",
       "    .dataframe tbody tr th:only-of-type {\n",
       "        vertical-align: middle;\n",
       "    }\n",
       "\n",
       "    .dataframe tbody tr th {\n",
       "        vertical-align: top;\n",
       "    }\n",
       "\n",
       "    .dataframe thead th {\n",
       "        text-align: right;\n",
       "    }\n",
       "</style>\n",
       "<table border=\"1\" class=\"dataframe\">\n",
       "  <thead>\n",
       "    <tr style=\"text-align: right;\">\n",
       "      <th></th>\n",
       "      <th>TV</th>\n",
       "      <th>Radio</th>\n",
       "      <th>Social_Media</th>\n",
       "      <th>Influencer</th>\n",
       "      <th>Sales</th>\n",
       "    </tr>\n",
       "  </thead>\n",
       "  <tbody>\n",
       "    <tr>\n",
       "      <th>0</th>\n",
       "      <td>Low</td>\n",
       "      <td>3.518070</td>\n",
       "      <td>2.293790</td>\n",
       "      <td>Micro</td>\n",
       "      <td>55.261284</td>\n",
       "    </tr>\n",
       "    <tr>\n",
       "      <th>1</th>\n",
       "      <td>Low</td>\n",
       "      <td>7.756876</td>\n",
       "      <td>2.572287</td>\n",
       "      <td>Mega</td>\n",
       "      <td>67.574904</td>\n",
       "    </tr>\n",
       "    <tr>\n",
       "      <th>2</th>\n",
       "      <td>High</td>\n",
       "      <td>20.348988</td>\n",
       "      <td>1.227180</td>\n",
       "      <td>Micro</td>\n",
       "      <td>272.250108</td>\n",
       "    </tr>\n",
       "    <tr>\n",
       "      <th>3</th>\n",
       "      <td>Medium</td>\n",
       "      <td>20.108487</td>\n",
       "      <td>2.728374</td>\n",
       "      <td>Mega</td>\n",
       "      <td>195.102176</td>\n",
       "    </tr>\n",
       "    <tr>\n",
       "      <th>4</th>\n",
       "      <td>High</td>\n",
       "      <td>31.653200</td>\n",
       "      <td>7.776978</td>\n",
       "      <td>Nano</td>\n",
       "      <td>273.960377</td>\n",
       "    </tr>\n",
       "  </tbody>\n",
       "</table>\n",
       "</div>"
      ],
      "text/plain": [
       "       TV      Radio  Social_Media Influencer       Sales\n",
       "0     Low   3.518070      2.293790      Micro   55.261284\n",
       "1     Low   7.756876      2.572287       Mega   67.574904\n",
       "2    High  20.348988      1.227180      Micro  272.250108\n",
       "3  Medium  20.108487      2.728374       Mega  195.102176\n",
       "4    High  31.653200      7.776978       Nano  273.960377"
      ]
     },
     "execution_count": 27,
     "metadata": {},
     "output_type": "execute_result"
    }
   ],
   "source": [
    "data.head()"
   ]
  },
  {
   "cell_type": "markdown",
   "metadata": {
    "id": "f6ee1e20-acb5-4c7a-ac25-bb6891825895"
   },
   "source": [
    "<details>\n",
    "<summary><h4><strong>Hint 1</strong></h4></summary>\n",
    "\n",
    "There is one column name that contains a space. Search for it in `data`.\n",
    "\n",
    "</details>"
   ]
  },
  {
   "cell_type": "markdown",
   "metadata": {
    "id": "ed1e4f56-c792-4355-bbb3-59da85f67a1e"
   },
   "source": [
    "<details>\n",
    "<summary><h4><strong>Hint 2</strong></h4></summary>\n",
    "\n",
    "The `Social Media` column name in `data` contains a space. This is not allowed in the `ols()` function.\n",
    "\n",
    "</details>"
   ]
  },
  {
   "cell_type": "markdown",
   "metadata": {
    "id": "e146d3ff-3ab5-4eb7-a789-5e4300ecaf9d"
   },
   "source": [
    "<details>\n",
    "<summary><h4><strong>Hint 3</strong></h4></summary>\n",
    "\n",
    "Use the `rename()` function in `pandas` and use the `columns` argument to provide a new name for `Social Media`.\n",
    "\n",
    "</details>"
   ]
  },
  {
   "cell_type": "markdown",
   "metadata": {
    "id": "888c90fa-d800-43e4-a692-9fdd576c9b9c"
   },
   "source": [
    "## Step 3: Model building"
   ]
  },
  {
   "cell_type": "markdown",
   "metadata": {
    "id": "9c906193-db62-4af0-83fa-dffafc347554"
   },
   "source": [
    "### Fit a multiple linear regression model that predicts sales\n",
    "\n",
    "Using the independent variables of your choice, fit a multiple linear regression model that predicts `Sales` using two or more independent variables from `data`."
   ]
  },
  {
   "cell_type": "code",
   "execution_count": 30,
   "metadata": {
    "id": "76f99341-1ea0-4f1d-a2c7-54e56bd57e38"
   },
   "outputs": [
    {
     "data": {
      "text/html": [
       "<table class=\"simpletable\">\n",
       "<caption>OLS Regression Results</caption>\n",
       "<tr>\n",
       "  <th>Dep. Variable:</th>          <td>Sales</td>      <th>  R-squared:         </th> <td>   0.904</td> \n",
       "</tr>\n",
       "<tr>\n",
       "  <th>Model:</th>                   <td>OLS</td>       <th>  Adj. R-squared:    </th> <td>   0.904</td> \n",
       "</tr>\n",
       "<tr>\n",
       "  <th>Method:</th>             <td>Least Squares</td>  <th>  F-statistic:       </th> <td>   1783.</td> \n",
       "</tr>\n",
       "<tr>\n",
       "  <th>Date:</th>             <td>Wed, 19 Jun 2024</td> <th>  Prob (F-statistic):</th> <td>1.63e-288</td>\n",
       "</tr>\n",
       "<tr>\n",
       "  <th>Time:</th>                 <td>17:01:52</td>     <th>  Log-Likelihood:    </th> <td> -2714.0</td> \n",
       "</tr>\n",
       "<tr>\n",
       "  <th>No. Observations:</th>      <td>   572</td>      <th>  AIC:               </th> <td>   5436.</td> \n",
       "</tr>\n",
       "<tr>\n",
       "  <th>Df Residuals:</th>          <td>   568</td>      <th>  BIC:               </th> <td>   5453.</td> \n",
       "</tr>\n",
       "<tr>\n",
       "  <th>Df Model:</th>              <td>     3</td>      <th>                     </th>     <td> </td>    \n",
       "</tr>\n",
       "<tr>\n",
       "  <th>Covariance Type:</th>      <td>nonrobust</td>    <th>                     </th>     <td> </td>    \n",
       "</tr>\n",
       "</table>\n",
       "<table class=\"simpletable\">\n",
       "<tr>\n",
       "         <td></td>            <th>coef</th>     <th>std err</th>      <th>t</th>      <th>P>|t|</th>  <th>[0.025</th>    <th>0.975]</th>  \n",
       "</tr>\n",
       "<tr>\n",
       "  <th>Intercept</th>       <td>  218.5261</td> <td>    6.261</td> <td>   34.902</td> <td> 0.000</td> <td>  206.228</td> <td>  230.824</td>\n",
       "</tr>\n",
       "<tr>\n",
       "  <th>C(TV)[T.Low]</th>    <td> -154.2971</td> <td>    4.929</td> <td>  -31.303</td> <td> 0.000</td> <td> -163.979</td> <td> -144.616</td>\n",
       "</tr>\n",
       "<tr>\n",
       "  <th>C(TV)[T.Medium]</th> <td>  -75.3120</td> <td>    3.624</td> <td>  -20.780</td> <td> 0.000</td> <td>  -82.431</td> <td>  -68.193</td>\n",
       "</tr>\n",
       "<tr>\n",
       "  <th>Radio</th>           <td>    2.9669</td> <td>    0.212</td> <td>   14.015</td> <td> 0.000</td> <td>    2.551</td> <td>    3.383</td>\n",
       "</tr>\n",
       "</table>\n",
       "<table class=\"simpletable\">\n",
       "<tr>\n",
       "  <th>Omnibus:</th>       <td>61.244</td> <th>  Durbin-Watson:     </th> <td>   1.870</td>\n",
       "</tr>\n",
       "<tr>\n",
       "  <th>Prob(Omnibus):</th> <td> 0.000</td> <th>  Jarque-Bera (JB):  </th> <td>  18.077</td>\n",
       "</tr>\n",
       "<tr>\n",
       "  <th>Skew:</th>          <td> 0.046</td> <th>  Prob(JB):          </th> <td>0.000119</td>\n",
       "</tr>\n",
       "<tr>\n",
       "  <th>Kurtosis:</th>      <td> 2.134</td> <th>  Cond. No.          </th> <td>    142.</td>\n",
       "</tr>\n",
       "</table><br/><br/>Warnings:<br/>[1] Standard Errors assume that the covariance matrix of the errors is correctly specified."
      ],
      "text/plain": [
       "<class 'statsmodels.iolib.summary.Summary'>\n",
       "\"\"\"\n",
       "                            OLS Regression Results                            \n",
       "==============================================================================\n",
       "Dep. Variable:                  Sales   R-squared:                       0.904\n",
       "Model:                            OLS   Adj. R-squared:                  0.904\n",
       "Method:                 Least Squares   F-statistic:                     1783.\n",
       "Date:                Wed, 19 Jun 2024   Prob (F-statistic):          1.63e-288\n",
       "Time:                        17:01:52   Log-Likelihood:                -2714.0\n",
       "No. Observations:                 572   AIC:                             5436.\n",
       "Df Residuals:                     568   BIC:                             5453.\n",
       "Df Model:                           3                                         \n",
       "Covariance Type:            nonrobust                                         \n",
       "===================================================================================\n",
       "                      coef    std err          t      P>|t|      [0.025      0.975]\n",
       "-----------------------------------------------------------------------------------\n",
       "Intercept         218.5261      6.261     34.902      0.000     206.228     230.824\n",
       "C(TV)[T.Low]     -154.2971      4.929    -31.303      0.000    -163.979    -144.616\n",
       "C(TV)[T.Medium]   -75.3120      3.624    -20.780      0.000     -82.431     -68.193\n",
       "Radio               2.9669      0.212     14.015      0.000       2.551       3.383\n",
       "==============================================================================\n",
       "Omnibus:                       61.244   Durbin-Watson:                   1.870\n",
       "Prob(Omnibus):                  0.000   Jarque-Bera (JB):               18.077\n",
       "Skew:                           0.046   Prob(JB):                     0.000119\n",
       "Kurtosis:                       2.134   Cond. No.                         142.\n",
       "==============================================================================\n",
       "\n",
       "Warnings:\n",
       "[1] Standard Errors assume that the covariance matrix of the errors is correctly specified.\n",
       "\"\"\""
      ]
     },
     "execution_count": 30,
     "metadata": {},
     "output_type": "execute_result"
    }
   ],
   "source": [
    "# Define the OLS formula.\n",
    "\n",
    "ols_formula = \"Sales ~ C(TV) + Radio\"\n",
    "\n",
    "\n",
    "# Create an OLS model.\n",
    "\n",
    "OLS = ols(ols_formula,data)\n",
    "\n",
    "\n",
    "# Fit the model.\n",
    "\n",
    "model = OLS.fit()\n",
    "\n",
    "\n",
    "# Save the results summary.\n",
    "\n",
    "results = model.summary()\n",
    "\n",
    "\n",
    "# Display the model results.\n",
    "results\n"
   ]
  },
  {
   "cell_type": "markdown",
   "metadata": {
    "id": "109e32f5-8193-4961-8245-6b6c09acfe3a",
    "jp-MarkdownHeadingCollapsed": true,
    "tags": []
   },
   "source": [
    "<details>\n",
    "<summary><h4><strong>Hint 1</strong></h4></summary>\n",
    "\n",
    "Refer to the content that discusses [model building](https://www.coursera.org/learn/regression-analysis-simplify-complex-data-relationships/lecture/zd74V/interpret-multiple-regression-coefficients) for linear regression.\n",
    "\n",
    "</details>"
   ]
  },
  {
   "cell_type": "markdown",
   "metadata": {
    "id": "49424e08-3472-44f1-a892-63ed80517510"
   },
   "source": [
    "<details>\n",
    "<summary><h4><strong>Hint 2</strong></h4></summary>\n",
    "\n",
    "Use the `ols()` function imported earlier—which creates a model from a formula and DataFrame—to create an OLS model.\n",
    "\n",
    "</details>"
   ]
  },
  {
   "cell_type": "markdown",
   "metadata": {
    "id": "0ee5dead-ed62-45d5-ab24-d671d8c3dde4",
    "jp-MarkdownHeadingCollapsed": true,
    "tags": []
   },
   "source": [
    "<details>\n",
    "<summary><h4><strong>Hint 3</strong></h4></summary>\n",
    "\n",
    "You previously learned how to specify in `ols()` that a feature is categorical. \n",
    "    \n",
    "Be sure the string names for the independent variables match the column names in `data` exactly.\n",
    "\n",
    "</details>"
   ]
  },
  {
   "cell_type": "markdown",
   "metadata": {
    "id": "1d889a8b-76f5-4f27-833f-a19af27ed8ca",
    "tags": []
   },
   "source": [
    "**Question:** Which independent variables did you choose for the model, and why?\n",
    "\n"
   ]
  },
  {
   "cell_type": "markdown",
   "metadata": {
    "id": "OCCzMeFc5CYv"
   },
   "source": [
    "Choose TV and Radio\n",
    "Because these are the two independent variables that showed the most promise."
   ]
  },
  {
   "cell_type": "markdown",
   "metadata": {
    "id": "b4987bee-40ae-4513-95c3-1bec1acdbba9",
    "tags": []
   },
   "source": [
    "### Check model assumptions"
   ]
  },
  {
   "cell_type": "markdown",
   "metadata": {
    "id": "6854af88-7d67-4214-a7df-c6405b46bb47"
   },
   "source": [
    "For multiple linear regression, there is an additional assumption added to the four simple linear regression assumptions: **multicollinearity**. \n",
    "\n",
    "Check that all five multiple linear regression assumptions are upheld for your model."
   ]
  },
  {
   "cell_type": "markdown",
   "metadata": {
    "id": "72eeb1c7-2f17-44fe-ac3f-71d555c2d81e"
   },
   "source": [
    "### Model assumption: Linearity"
   ]
  },
  {
   "cell_type": "markdown",
   "metadata": {
    "id": "6f042e3e-ba44-4f93-b37d-421cf93d560f"
   },
   "source": [
    "Create scatterplots comparing the continuous independent variable(s) you selected previously with `Sales` to check the linearity assumption. Use the pairplot you created earlier to verify the linearity assumption or create new scatterplots comparing the variables of interest."
   ]
  },
  {
   "cell_type": "code",
   "execution_count": 43,
   "metadata": {
    "id": "52036579-1a91-4250-966e-035fc0371f8f"
   },
   "outputs": [
    {
     "data": {
      "image/png": "[encoded data removed]",
      "text/plain": [
       "<Figure size 648x360 with 2 Axes>"
      ]
     },
     "metadata": {
      "needs_background": "light"
     },
     "output_type": "display_data"
    }
   ],
   "source": [
    "# Create a scatterplot for each independent variable and the dependent variable.\n",
    "import matplotlib.pyplot as plt\n",
    "\n",
    "fig,axes = plt.subplots(1,2,figsize = (9,5))\n",
    "sns.scatterplot(data[\"Radio\"],data[\"Sales\"],ax = axes[0])\n",
    "axes[0].set_title(\"Sales vs Radio\")\n",
    "\n",
    "sns.scatterplot(data[\"Social_Media\"],data[\"Sales\"],ax = axes[1])\n",
    "axes[1].set_title(\"Sales vs Radio\")\n",
    "\n",
    "plt.tight_layout()"
   ]
  },
  {
   "cell_type": "markdown",
   "metadata": {
    "id": "330dc5d1-2013-484b-b2aa-15ec71ee68a4"
   },
   "source": [
    "<details>\n",
    "<summary><h4><strong>Hint 1</strong></h4></summary>\n",
    "\n",
    "Use the function in the `seaborn` library that allows you to create a scatterplot to display the values for two variables.\n",
    "\n",
    "</details>"
   ]
  },
  {
   "cell_type": "markdown",
   "metadata": {
    "id": "a247c7c5-f32b-4829-97a6-f745bbac3b70"
   },
   "source": [
    "<details>\n",
    "<summary><h4><strong>Hint 2</strong></h4></summary>\n",
    "\n",
    "Use the `scatterplot()` function in `seaborn`.\n",
    "\n",
    "</details>"
   ]
  },
  {
   "cell_type": "markdown",
   "metadata": {
    "id": "4d1b8824-781d-4e8d-a2ba-e2658d7751e0"
   },
   "source": [
    "<details>\n",
    "<summary><h4><strong>Hint 3</strong></h4></summary>\n",
    "    \n",
    "Pass the independent and dependent variables in your model as the arguments for `x` and `y`, respectively, in the `scatterplot()` function. Do this for each continous independent variable in your model.\n",
    "\n",
    "</details>"
   ]
  },
  {
   "cell_type": "markdown",
   "metadata": {
    "id": "66de8f0b-fd6b-456f-add6-f893dc33d911"
   },
   "source": [
    "**Question:** Is the linearity assumption met?\n"
   ]
  },
  {
   "cell_type": "markdown",
   "metadata": {},
   "source": [
    "Radio does but Social Media shows linearity to a certain degree."
   ]
  },
  {
   "cell_type": "markdown",
   "metadata": {
    "id": "892bb8a6-c4e1-4439-96bb-53125d509492"
   },
   "source": [
    "### Model assumption: Independence"
   ]
  },
  {
   "cell_type": "markdown",
   "metadata": {
    "id": "feeb314a-bbbe-4e9a-8561-2f8af0cd172e"
   },
   "source": [
    "The **independent observation assumption** states that each observation in the dataset is independent. As each marketing promotion (i.e., row) is independent from one another, the independence assumption is not violated."
   ]
  },
  {
   "cell_type": "markdown",
   "metadata": {
    "id": "59e4bb03-4ea6-4954-9ebc-3cc0d98eb0b0"
   },
   "source": [
    "### Model assumption: Normality"
   ]
  },
  {
   "cell_type": "markdown",
   "metadata": {
    "id": "bcccf5c8-3325-4b1e-b491-f151bea5ab1c"
   },
   "source": [
    "Create the following plots to check the **normality assumption**:\n",
    "\n",
    "* **Plot 1**: Histogram of the residuals\n",
    "* **Plot 2**: Q-Q plot of the residuals"
   ]
  },
  {
   "cell_type": "code",
   "execution_count": 51,
   "metadata": {
    "id": "cce8f99b-33e2-4723-9266-4f009e7a15dd"
   },
   "outputs": [
    {
     "data": {
      "image/png": "[encoded data removed]",
      "text/plain": [
       "<Figure size 504x360 with 2 Axes>"
      ]
     },
     "metadata": {
      "needs_background": "light"
     },
     "output_type": "display_data"
    }
   ],
   "source": [
    "# Calculate the residuals.\n",
    "residual = model.resid\n",
    "fig,axes = plt.subplots(1,2,figsize = (7,5))\n",
    "\n",
    "\n",
    "# Create a histogram with the residuals. \n",
    "\n",
    "sns.histplot(residual,ax = axes[0])\n",
    "\n",
    "sm.qqplot(residual,line = 's',ax = axes[1])\n",
    "\n",
    "plt.show()"
   ]
  },
  {
   "cell_type": "markdown",
   "metadata": {
    "id": "39538404-e292-4564-b361-46353fc8e3f0",
    "jp-MarkdownHeadingCollapsed": true,
    "tags": []
   },
   "source": [
    "<details>\n",
    "<summary><h4><strong>Hint 1</strong></h4></summary>\n",
    "\n",
    "Access the residuals from the fit model object.\n",
    "\n",
    "</details>"
   ]
  },
  {
   "cell_type": "markdown",
   "metadata": {
    "id": "689dabc4-ad48-4c9e-976e-b70520801385"
   },
   "source": [
    "<details>\n",
    "<summary><h4><strong>Hint 2</strong></h4></summary>\n",
    "\n",
    "Use `model.resid` to get the residuals from a fit model called `model`.\n",
    "\n",
    "</details>"
   ]
  },
  {
   "cell_type": "markdown",
   "metadata": {
    "id": "562f868e-45e4-464a-a47e-9f1ed735d6a4"
   },
   "source": [
    "<details>\n",
    "<summary><h4><strong>Hint 3</strong></h4></summary>\n",
    "\n",
    "For the histogram, pass the residuals as the first argument in the `seaborn` `histplot()` function.\n",
    "    \n",
    "For the Q-Q plot, pass the residuals as the first argument in the `statsmodels` `qqplot()` function.\n",
    "\n",
    "</details>"
   ]
  },
  {
   "cell_type": "markdown",
   "metadata": {
    "id": "e41f4dd7-5501-43b7-b684-58bad8ff61fb"
   },
   "source": [
    "**Question:** Is the normality assumption met?\n",
    "\n"
   ]
  },
  {
   "cell_type": "markdown",
   "metadata": {
    "id": "lDtSuMov5R6F"
   },
   "source": [
    "Yes we can say that the normality assumption is met since the residuals follow a normal distribution in the histogram.\n",
    "Moreover, the QQPlot also shows a linear trend."
   ]
  },
  {
   "cell_type": "markdown",
   "metadata": {
    "id": "aee36b49-b0e4-4d86-9ca0-c12ec6ffe74d"
   },
   "source": [
    "### Model assumption: Constant variance"
   ]
  },
  {
   "cell_type": "markdown",
   "metadata": {
    "id": "be83ac10-d1d0-4b94-88de-5de424528547"
   },
   "source": [
    "Check that the **constant variance assumption** is not violated by creating a scatterplot with the fitted values and residuals. Add a line at $y = 0$ to visualize the variance of residuals above and below $y = 0$."
   ]
  },
  {
   "cell_type": "code",
   "execution_count": 61,
   "metadata": {
    "id": "efcd0325-b3a0-42d1-ad57-38f10800c35e"
   },
   "outputs": [
    {
     "data": {
      "text/plain": [
       "<matplotlib.lines.Line2D at 0x71dc5c7e8510>"
      ]
     },
     "execution_count": 61,
     "metadata": {},
     "output_type": "execute_result"
    },
    {
     "data": {
      "image/png": "[encoded data removed]",
      "text/plain": [
       "<Figure size 432x288 with 1 Axes>"
      ]
     },
     "metadata": {
      "needs_background": "light"
     },
     "output_type": "display_data"
    }
   ],
   "source": [
    "# Create a scatterplot with the fitted values from the model and the residuals.\n",
    "\n",
    "fig = sns.scatterplot(model.fittedvalues,model.resid)\n",
    "fig.set_xlabel(\"Fitted Values\")\n",
    "fig.set_ylabel(\"Residuals\")\n",
    "\n",
    "\n",
    "# Add a line at y = 0 to visualize the variance of residuals above and below 0.\n",
    "plt.axhline(0,color = \"g\")\n",
    "\n"
   ]
  },
  {
   "cell_type": "markdown",
   "metadata": {
    "id": "662f104d-0977-498f-8159-501063f3c3fc"
   },
   "source": [
    "<details>\n",
    "<summary><h4><strong>Hint 1</strong></h4></summary>\n",
    "\n",
    "Access the fitted values from the model object fit earlier.\n",
    "\n",
    "</details>"
   ]
  },
  {
   "cell_type": "markdown",
   "metadata": {
    "id": "b0a3d26c-1e80-46e3-849a-d7f054cffb52"
   },
   "source": [
    "<details>\n",
    "<summary><h4><strong>Hint 2</strong></h4></summary>\n",
    "\n",
    "Use `model.fittedvalues` to get the fitted values from a fit model called `model`.\n",
    "\n",
    "</details>"
   ]
  },
  {
   "cell_type": "markdown",
   "metadata": {
    "id": "5830cbfc-9204-42a6-b24f-3cf1334ff41e"
   },
   "source": [
    "<details>\n",
    "<summary><h4><strong>Hint 3</strong></h4></summary>\n",
    "\n",
    "\n",
    "Call the `scatterplot()` function from the `seaborn` library and pass in the fitted values and residuals.\n",
    "    \n",
    "Add a line to a figure using the `axline()` function.\n",
    "\n",
    "</details>"
   ]
  },
  {
   "cell_type": "markdown",
   "metadata": {
    "id": "8318f726-369c-446a-acad-85117e43459b"
   },
   "source": [
    "**Question:** Is the constant variance assumption met?\n",
    "\n",
    "\n"
   ]
  },
  {
   "cell_type": "markdown",
   "metadata": {
    "id": "Z_L3I-zc5QQk"
   },
   "source": [
    "Yes since we have a random cloud formation here, it tells us that the fitted values are not related to the residuals in any way."
   ]
  },
  {
   "cell_type": "markdown",
   "metadata": {
    "id": "1689e730-9973-4574-bf9f-6fba303c4cc4"
   },
   "source": [
    "### Model assumption: No multicollinearity"
   ]
  },
  {
   "cell_type": "markdown",
   "metadata": {
    "id": "f53a057f-7f7a-446e-826f-4f3383145453"
   },
   "source": [
    "The **no multicollinearity assumption** states that no two independent variables ($X_i$ and $X_j$) can be highly correlated with each other. \n",
    "\n",
    "Two common ways to check for multicollinearity are to:\n",
    "\n",
    "* Create scatterplots to show the relationship between pairs of independent variables\n",
    "* Use the variance inflation factor to detect multicollinearity\n",
    "\n",
    "Use one of these two methods to check your model's no multicollinearity assumption."
   ]
  },
  {
   "cell_type": "code",
   "execution_count": 63,
   "metadata": {
    "id": "0609c527-fb44-4b79-927d-6e75c4510e8d"
   },
   "outputs": [
    {
     "data": {
      "text/plain": [
       "<seaborn.axisgrid.PairGrid at 0x71dc57ccd550>"
      ]
     },
     "execution_count": 63,
     "metadata": {},
     "output_type": "execute_result"
    },
    {
     "data": {
      "image/png": "[encoded data removed]",
      "text/plain": [
       "<Figure size 360x360 with 6 Axes>"
      ]
     },
     "metadata": {
      "needs_background": "light"
     },
     "output_type": "display_data"
    }
   ],
   "source": [
    "# Create a pairplot of the data.\n",
    "\n",
    "sns.pairplot(data[[\"Radio\",\"Social_Media\"]])"
   ]
  },
  {
   "cell_type": "code",
   "execution_count": 72,
   "metadata": {
    "id": "607a7bd6-4480-48f2-ba71-81a412b336ce"
   },
   "outputs": [],
   "source": [
    "# Calculate the variance inflation factor (optional).\n",
    "from statsmodels.stats.outliers_influence import variance_inflation_factor\n",
    "\n",
    "X = data[[\"Radio\",\"Social_Media\"]]\n",
    "vif = []\n",
    "for i in range(X.shape[1]):\n",
    "    vif.append(variance_inflation_factor(X.values,i))\n",
    "\n",
    "vip_df = pd.DataFrame(vif,columns = [\"VIF\"],index = X.columns)\n"
   ]
  },
  {
   "cell_type": "code",
   "execution_count": 73,
   "metadata": {},
   "outputs": [
    {
     "data": {
      "text/html": [
       "<div>\n",
       "<style scoped>\n",
       "    .dataframe tbody tr th:only-of-type {\n",
       "        vertical-align: middle;\n",
       "    }\n",
       "\n",
       "    .dataframe tbody tr th {\n",
       "        vertical-align: top;\n",
       "    }\n",
       "\n",
       "    .dataframe thead th {\n",
       "        text-align: right;\n",
       "    }\n",
       "</style>\n",
       "<table border=\"1\" class=\"dataframe\">\n",
       "  <thead>\n",
       "    <tr style=\"text-align: right;\">\n",
       "      <th></th>\n",
       "      <th>VIF</th>\n",
       "    </tr>\n",
       "  </thead>\n",
       "  <tbody>\n",
       "    <tr>\n",
       "      <th>Radio</th>\n",
       "      <td>5.170922</td>\n",
       "    </tr>\n",
       "    <tr>\n",
       "      <th>Social_Media</th>\n",
       "      <td>5.170922</td>\n",
       "    </tr>\n",
       "  </tbody>\n",
       "</table>\n",
       "</div>"
      ],
      "text/plain": [
       "                   VIF\n",
       "Radio         5.170922\n",
       "Social_Media  5.170922"
      ]
     },
     "execution_count": 73,
     "metadata": {},
     "output_type": "execute_result"
    }
   ],
   "source": [
    "vip_df"
   ]
  },
  {
   "cell_type": "markdown",
   "metadata": {
    "id": "ae9b5170-670f-46a1-95df-13467a068e51",
    "jp-MarkdownHeadingCollapsed": true,
    "tags": []
   },
   "source": [
    "<details>\n",
    "<summary><h4><strong>Hint 1</strong></h4></summary>\n",
    "\n",
    "Confirm that you previously created plots that could check the no multicollinearity assumption.\n",
    "\n",
    "</details>"
   ]
  },
  {
   "cell_type": "markdown",
   "metadata": {
    "id": "483b5bb6-8459-4407-abb0-fddc775c5c36"
   },
   "source": [
    "<details>\n",
    "<summary><h4><strong>Hint 2</strong></h4></summary>\n",
    "\n",
    "The `pairplot()` function applied earlier to `data` plots the relationship between all continous variables  (e.g., between `Radio` and `Social Media`).\n",
    "\n",
    "</details>"
   ]
  },
  {
   "cell_type": "markdown",
   "metadata": {
    "id": "8958c9dd-11ac-4648-a3ee-07f9887966fe"
   },
   "source": [
    "<details>\n",
    "<summary><h4><strong>Hint 3</strong></h4></summary>\n",
    "\n",
    "The `statsmodels` library has a function to calculate the variance inflation factor called `variance_inflation_factor()`. \n",
    "    \n",
    "When using this function, subset the data to only include the continous independent variables (e.g., `Radio` and `Social Media`). Refer to external tutorials on how to apply the variance inflation factor function mentioned previously.\n",
    " \n",
    "\n",
    "</details>"
   ]
  },
  {
   "cell_type": "markdown",
   "metadata": {
    "id": "742acde3-9164-4b55-b711-6339e874a37c"
   },
   "source": [
    "**Question 8:** Is the no multicollinearity assumption met?\n",
    "\n"
   ]
  },
  {
   "cell_type": "markdown",
   "metadata": {
    "id": "84373d80-2129-4124-85fa-85871671004b"
   },
   "source": [
    "## Step 4: Results and evaluation"
   ]
  },
  {
   "cell_type": "markdown",
   "metadata": {
    "id": "30f5a3e8-a446-4a64-a0cb-4a512a367111"
   },
   "source": [
    "### Display the OLS regression results\n",
    "\n",
    "If the model assumptions are met, you can interpret the model results accurately.\n",
    "\n",
    "First, display the OLS regression results."
   ]
  },
  {
   "cell_type": "code",
   "execution_count": 74,
   "metadata": {
    "id": "7d0bfc27-05f7-4cfa-9aa1-8e2110eabd69"
   },
   "outputs": [
    {
     "data": {
      "text/html": [
       "<table class=\"simpletable\">\n",
       "<caption>OLS Regression Results</caption>\n",
       "<tr>\n",
       "  <th>Dep. Variable:</th>          <td>Sales</td>      <th>  R-squared:         </th> <td>   0.904</td> \n",
       "</tr>\n",
       "<tr>\n",
       "  <th>Model:</th>                   <td>OLS</td>       <th>  Adj. R-squared:    </th> <td>   0.904</td> \n",
       "</tr>\n",
       "<tr>\n",
       "  <th>Method:</th>             <td>Least Squares</td>  <th>  F-statistic:       </th> <td>   1783.</td> \n",
       "</tr>\n",
       "<tr>\n",
       "  <th>Date:</th>             <td>Wed, 19 Jun 2024</td> <th>  Prob (F-statistic):</th> <td>1.63e-288</td>\n",
       "</tr>\n",
       "<tr>\n",
       "  <th>Time:</th>                 <td>17:01:52</td>     <th>  Log-Likelihood:    </th> <td> -2714.0</td> \n",
       "</tr>\n",
       "<tr>\n",
       "  <th>No. Observations:</th>      <td>   572</td>      <th>  AIC:               </th> <td>   5436.</td> \n",
       "</tr>\n",
       "<tr>\n",
       "  <th>Df Residuals:</th>          <td>   568</td>      <th>  BIC:               </th> <td>   5453.</td> \n",
       "</tr>\n",
       "<tr>\n",
       "  <th>Df Model:</th>              <td>     3</td>      <th>                     </th>     <td> </td>    \n",
       "</tr>\n",
       "<tr>\n",
       "  <th>Covariance Type:</th>      <td>nonrobust</td>    <th>                     </th>     <td> </td>    \n",
       "</tr>\n",
       "</table>\n",
       "<table class=\"simpletable\">\n",
       "<tr>\n",
       "         <td></td>            <th>coef</th>     <th>std err</th>      <th>t</th>      <th>P>|t|</th>  <th>[0.025</th>    <th>0.975]</th>  \n",
       "</tr>\n",
       "<tr>\n",
       "  <th>Intercept</th>       <td>  218.5261</td> <td>    6.261</td> <td>   34.902</td> <td> 0.000</td> <td>  206.228</td> <td>  230.824</td>\n",
       "</tr>\n",
       "<tr>\n",
       "  <th>C(TV)[T.Low]</th>    <td> -154.2971</td> <td>    4.929</td> <td>  -31.303</td> <td> 0.000</td> <td> -163.979</td> <td> -144.616</td>\n",
       "</tr>\n",
       "<tr>\n",
       "  <th>C(TV)[T.Medium]</th> <td>  -75.3120</td> <td>    3.624</td> <td>  -20.780</td> <td> 0.000</td> <td>  -82.431</td> <td>  -68.193</td>\n",
       "</tr>\n",
       "<tr>\n",
       "  <th>Radio</th>           <td>    2.9669</td> <td>    0.212</td> <td>   14.015</td> <td> 0.000</td> <td>    2.551</td> <td>    3.383</td>\n",
       "</tr>\n",
       "</table>\n",
       "<table class=\"simpletable\">\n",
       "<tr>\n",
       "  <th>Omnibus:</th>       <td>61.244</td> <th>  Durbin-Watson:     </th> <td>   1.870</td>\n",
       "</tr>\n",
       "<tr>\n",
       "  <th>Prob(Omnibus):</th> <td> 0.000</td> <th>  Jarque-Bera (JB):  </th> <td>  18.077</td>\n",
       "</tr>\n",
       "<tr>\n",
       "  <th>Skew:</th>          <td> 0.046</td> <th>  Prob(JB):          </th> <td>0.000119</td>\n",
       "</tr>\n",
       "<tr>\n",
       "  <th>Kurtosis:</th>      <td> 2.134</td> <th>  Cond. No.          </th> <td>    142.</td>\n",
       "</tr>\n",
       "</table><br/><br/>Warnings:<br/>[1] Standard Errors assume that the covariance matrix of the errors is correctly specified."
      ],
      "text/plain": [
       "<class 'statsmodels.iolib.summary.Summary'>\n",
       "\"\"\"\n",
       "                            OLS Regression Results                            \n",
       "==============================================================================\n",
       "Dep. Variable:                  Sales   R-squared:                       0.904\n",
       "Model:                            OLS   Adj. R-squared:                  0.904\n",
       "Method:                 Least Squares   F-statistic:                     1783.\n",
       "Date:                Wed, 19 Jun 2024   Prob (F-statistic):          1.63e-288\n",
       "Time:                        17:01:52   Log-Likelihood:                -2714.0\n",
       "No. Observations:                 572   AIC:                             5436.\n",
       "Df Residuals:                     568   BIC:                             5453.\n",
       "Df Model:                           3                                         \n",
       "Covariance Type:            nonrobust                                         \n",
       "===================================================================================\n",
       "                      coef    std err          t      P>|t|      [0.025      0.975]\n",
       "-----------------------------------------------------------------------------------\n",
       "Intercept         218.5261      6.261     34.902      0.000     206.228     230.824\n",
       "C(TV)[T.Low]     -154.2971      4.929    -31.303      0.000    -163.979    -144.616\n",
       "C(TV)[T.Medium]   -75.3120      3.624    -20.780      0.000     -82.431     -68.193\n",
       "Radio               2.9669      0.212     14.015      0.000       2.551       3.383\n",
       "==============================================================================\n",
       "Omnibus:                       61.244   Durbin-Watson:                   1.870\n",
       "Prob(Omnibus):                  0.000   Jarque-Bera (JB):               18.077\n",
       "Skew:                           0.046   Prob(JB):                     0.000119\n",
       "Kurtosis:                       2.134   Cond. No.                         142.\n",
       "==============================================================================\n",
       "\n",
       "Warnings:\n",
       "[1] Standard Errors assume that the covariance matrix of the errors is correctly specified.\n",
       "\"\"\""
      ]
     },
     "execution_count": 74,
     "metadata": {},
     "output_type": "execute_result"
    }
   ],
   "source": [
    "results"
   ]
  },
  {
   "cell_type": "markdown",
   "metadata": {
    "id": "b29062e1-5c7f-4a78-b782-a07236bbcc28"
   },
   "source": [
    "**Question:** What is your interpretation of the model's R-squared?\n"
   ]
  },
  {
   "cell_type": "markdown",
   "metadata": {
    "id": "zfGBVqxU5TTd"
   },
   "source": [
    "R_2 value is 0.904. This means that 90% of the variance can be explained by the independent variables in the model."
   ]
  },
  {
   "cell_type": "markdown",
   "metadata": {
    "id": "39504539-44c5-4d88-bfb1-7fd9a8c0c8d9"
   },
   "source": [
    "### Interpret model coefficients"
   ]
  },
  {
   "cell_type": "markdown",
   "metadata": {
    "id": "d1bcd73c-449d-4bd8-8f70-91e27e577c2f"
   },
   "source": [
    "With the model fit evaluated, you can look at the coefficient estimates and the uncertainty of these estimates.\n",
    "\n",
    "Again, display the OLS regression results."
   ]
  },
  {
   "cell_type": "code",
   "execution_count": 75,
   "metadata": {
    "id": "083b952e-deca-4532-acdb-e2113880751e"
   },
   "outputs": [
    {
     "data": {
      "text/html": [
       "<table class=\"simpletable\">\n",
       "<caption>OLS Regression Results</caption>\n",
       "<tr>\n",
       "  <th>Dep. Variable:</th>          <td>Sales</td>      <th>  R-squared:         </th> <td>   0.904</td> \n",
       "</tr>\n",
       "<tr>\n",
       "  <th>Model:</th>                   <td>OLS</td>       <th>  Adj. R-squared:    </th> <td>   0.904</td> \n",
       "</tr>\n",
       "<tr>\n",
       "  <th>Method:</th>             <td>Least Squares</td>  <th>  F-statistic:       </th> <td>   1783.</td> \n",
       "</tr>\n",
       "<tr>\n",
       "  <th>Date:</th>             <td>Wed, 19 Jun 2024</td> <th>  Prob (F-statistic):</th> <td>1.63e-288</td>\n",
       "</tr>\n",
       "<tr>\n",
       "  <th>Time:</th>                 <td>17:01:52</td>     <th>  Log-Likelihood:    </th> <td> -2714.0</td> \n",
       "</tr>\n",
       "<tr>\n",
       "  <th>No. Observations:</th>      <td>   572</td>      <th>  AIC:               </th> <td>   5436.</td> \n",
       "</tr>\n",
       "<tr>\n",
       "  <th>Df Residuals:</th>          <td>   568</td>      <th>  BIC:               </th> <td>   5453.</td> \n",
       "</tr>\n",
       "<tr>\n",
       "  <th>Df Model:</th>              <td>     3</td>      <th>                     </th>     <td> </td>    \n",
       "</tr>\n",
       "<tr>\n",
       "  <th>Covariance Type:</th>      <td>nonrobust</td>    <th>                     </th>     <td> </td>    \n",
       "</tr>\n",
       "</table>\n",
       "<table class=\"simpletable\">\n",
       "<tr>\n",
       "         <td></td>            <th>coef</th>     <th>std err</th>      <th>t</th>      <th>P>|t|</th>  <th>[0.025</th>    <th>0.975]</th>  \n",
       "</tr>\n",
       "<tr>\n",
       "  <th>Intercept</th>       <td>  218.5261</td> <td>    6.261</td> <td>   34.902</td> <td> 0.000</td> <td>  206.228</td> <td>  230.824</td>\n",
       "</tr>\n",
       "<tr>\n",
       "  <th>C(TV)[T.Low]</th>    <td> -154.2971</td> <td>    4.929</td> <td>  -31.303</td> <td> 0.000</td> <td> -163.979</td> <td> -144.616</td>\n",
       "</tr>\n",
       "<tr>\n",
       "  <th>C(TV)[T.Medium]</th> <td>  -75.3120</td> <td>    3.624</td> <td>  -20.780</td> <td> 0.000</td> <td>  -82.431</td> <td>  -68.193</td>\n",
       "</tr>\n",
       "<tr>\n",
       "  <th>Radio</th>           <td>    2.9669</td> <td>    0.212</td> <td>   14.015</td> <td> 0.000</td> <td>    2.551</td> <td>    3.383</td>\n",
       "</tr>\n",
       "</table>\n",
       "<table class=\"simpletable\">\n",
       "<tr>\n",
       "  <th>Omnibus:</th>       <td>61.244</td> <th>  Durbin-Watson:     </th> <td>   1.870</td>\n",
       "</tr>\n",
       "<tr>\n",
       "  <th>Prob(Omnibus):</th> <td> 0.000</td> <th>  Jarque-Bera (JB):  </th> <td>  18.077</td>\n",
       "</tr>\n",
       "<tr>\n",
       "  <th>Skew:</th>          <td> 0.046</td> <th>  Prob(JB):          </th> <td>0.000119</td>\n",
       "</tr>\n",
       "<tr>\n",
       "  <th>Kurtosis:</th>      <td> 2.134</td> <th>  Cond. No.          </th> <td>    142.</td>\n",
       "</tr>\n",
       "</table><br/><br/>Warnings:<br/>[1] Standard Errors assume that the covariance matrix of the errors is correctly specified."
      ],
      "text/plain": [
       "<class 'statsmodels.iolib.summary.Summary'>\n",
       "\"\"\"\n",
       "                            OLS Regression Results                            \n",
       "==============================================================================\n",
       "Dep. Variable:                  Sales   R-squared:                       0.904\n",
       "Model:                            OLS   Adj. R-squared:                  0.904\n",
       "Method:                 Least Squares   F-statistic:                     1783.\n",
       "Date:                Wed, 19 Jun 2024   Prob (F-statistic):          1.63e-288\n",
       "Time:                        17:01:52   Log-Likelihood:                -2714.0\n",
       "No. Observations:                 572   AIC:                             5436.\n",
       "Df Residuals:                     568   BIC:                             5453.\n",
       "Df Model:                           3                                         \n",
       "Covariance Type:            nonrobust                                         \n",
       "===================================================================================\n",
       "                      coef    std err          t      P>|t|      [0.025      0.975]\n",
       "-----------------------------------------------------------------------------------\n",
       "Intercept         218.5261      6.261     34.902      0.000     206.228     230.824\n",
       "C(TV)[T.Low]     -154.2971      4.929    -31.303      0.000    -163.979    -144.616\n",
       "C(TV)[T.Medium]   -75.3120      3.624    -20.780      0.000     -82.431     -68.193\n",
       "Radio               2.9669      0.212     14.015      0.000       2.551       3.383\n",
       "==============================================================================\n",
       "Omnibus:                       61.244   Durbin-Watson:                   1.870\n",
       "Prob(Omnibus):                  0.000   Jarque-Bera (JB):               18.077\n",
       "Skew:                           0.046   Prob(JB):                     0.000119\n",
       "Kurtosis:                       2.134   Cond. No.                         142.\n",
       "==============================================================================\n",
       "\n",
       "Warnings:\n",
       "[1] Standard Errors assume that the covariance matrix of the errors is correctly specified.\n",
       "\"\"\""
      ]
     },
     "execution_count": 75,
     "metadata": {},
     "output_type": "execute_result"
    }
   ],
   "source": [
    "results"
   ]
  },
  {
   "cell_type": "markdown",
   "metadata": {
    "id": "bc293d6c-0e33-4613-8b4c-c6d27b48d903"
   },
   "source": [
    "**Question:** What are the model coefficients?\n",
    "\n"
   ]
  },
  {
   "cell_type": "markdown",
   "metadata": {
    "id": "o_D7L39q5Xv4"
   },
   "source": [
    "We have B0 as 218.5261\n",
    "B1 as -154.2971\n",
    "B2 as -75.3120\n",
    "b3 as 2.9669\n",
    "\n",
    "where b1,b2,b3 are the coefficients for the one hot encoded \"low\" column, one hot encoded \"medium\" column and the \"Radio\" variable respectively."
   ]
  },
  {
   "cell_type": "markdown",
   "metadata": {
    "id": "9826fb29-2740-4f19-b4dc-326cf3de2ca8"
   },
   "source": [
    "**Question:** How would you write the relationship between `Sales` and the independent variables as a linear equation?\n",
    "\n"
   ]
  },
  {
   "cell_type": "markdown",
   "metadata": {
    "id": "8_g0Yl1z5Zj5"
   },
   "source": [
    "Y = 218.5261 + X1 * -154.2971 + X2 * (-75.3120) + X3 * 2.9669"
   ]
  },
  {
   "cell_type": "markdown",
   "metadata": {
    "id": "8ca575f3-cbba-4a0a-99d0-b8bf82ea49e4",
    "jp-MarkdownHeadingCollapsed": true,
    "tags": []
   },
   "source": [
    "**Question:** What is your intepretation of the coefficient estimates? Are the coefficients statistically significant?\n",
    "\n"
   ]
  },
  {
   "cell_type": "markdown",
   "metadata": {
    "id": "u8ARb9Dh5asn"
   },
   "source": [
    "All the coefficient values have a p value of 0.00. This represents that we can say with a lot of sureity that these estimates are good."
   ]
  },
  {
   "cell_type": "markdown",
   "metadata": {
    "id": "4affd7d9-656b-4c8a-adaa-69e4e26d13bd"
   },
   "source": [
    "**Question:** Why is it important to interpret the beta coefficients?\n",
    "\n"
   ]
  },
  {
   "cell_type": "markdown",
   "metadata": {
    "id": "24w7tW-c5kDu"
   },
   "source": [
    "Beta coefficients allow us to understand the effect of each variable on the prediction. It helps us to derive insights using this."
   ]
  },
  {
   "cell_type": "markdown",
   "metadata": {
    "id": "9aa744ec-f277-4110-b237-6d278f773e15",
    "tags": []
   },
   "source": [
    "**Question:** What are you interested in exploring based on your model?\n",
    "\n"
   ]
  },
  {
   "cell_type": "markdown",
   "metadata": {
    "id": "unDgab5O5kc1"
   },
   "source": [
    "Providing the business with the estimated levels of sales for different levels of TV and radio budget.\n",
    "Inform the business of their desicions and its possible consequences."
   ]
  },
  {
   "cell_type": "markdown",
   "metadata": {
    "id": "e6066524-9394-44d0-8da1-6b72f0dc5f10",
    "tags": []
   },
   "source": [
    "**Question:** Do you think your model could be improved? Why or why not? How?"
   ]
  },
  {
   "cell_type": "markdown",
   "metadata": {
    "id": "kHOKq-eg5k27"
   },
   "source": [
    "Given how accurate TV was, the model could be further improved by providing a granular view of the TV variable. This might involve adding more categories etc."
   ]
  },
  {
   "cell_type": "code",
   "execution_count": 76,
   "metadata": {},
   "outputs": [
    {
     "data": {
      "text/html": [
       "<table class=\"simpletable\">\n",
       "<caption>OLS Regression Results</caption>\n",
       "<tr>\n",
       "  <th>Dep. Variable:</th>          <td>Sales</td>      <th>  R-squared:         </th> <td>   0.904</td> \n",
       "</tr>\n",
       "<tr>\n",
       "  <th>Model:</th>                   <td>OLS</td>       <th>  Adj. R-squared:    </th> <td>   0.904</td> \n",
       "</tr>\n",
       "<tr>\n",
       "  <th>Method:</th>             <td>Least Squares</td>  <th>  F-statistic:       </th> <td>   1783.</td> \n",
       "</tr>\n",
       "<tr>\n",
       "  <th>Date:</th>             <td>Wed, 19 Jun 2024</td> <th>  Prob (F-statistic):</th> <td>1.63e-288</td>\n",
       "</tr>\n",
       "<tr>\n",
       "  <th>Time:</th>                 <td>17:01:52</td>     <th>  Log-Likelihood:    </th> <td> -2714.0</td> \n",
       "</tr>\n",
       "<tr>\n",
       "  <th>No. Observations:</th>      <td>   572</td>      <th>  AIC:               </th> <td>   5436.</td> \n",
       "</tr>\n",
       "<tr>\n",
       "  <th>Df Residuals:</th>          <td>   568</td>      <th>  BIC:               </th> <td>   5453.</td> \n",
       "</tr>\n",
       "<tr>\n",
       "  <th>Df Model:</th>              <td>     3</td>      <th>                     </th>     <td> </td>    \n",
       "</tr>\n",
       "<tr>\n",
       "  <th>Covariance Type:</th>      <td>nonrobust</td>    <th>                     </th>     <td> </td>    \n",
       "</tr>\n",
       "</table>\n",
       "<table class=\"simpletable\">\n",
       "<tr>\n",
       "         <td></td>            <th>coef</th>     <th>std err</th>      <th>t</th>      <th>P>|t|</th>  <th>[0.025</th>    <th>0.975]</th>  \n",
       "</tr>\n",
       "<tr>\n",
       "  <th>Intercept</th>       <td>  218.5261</td> <td>    6.261</td> <td>   34.902</td> <td> 0.000</td> <td>  206.228</td> <td>  230.824</td>\n",
       "</tr>\n",
       "<tr>\n",
       "  <th>C(TV)[T.Low]</th>    <td> -154.2971</td> <td>    4.929</td> <td>  -31.303</td> <td> 0.000</td> <td> -163.979</td> <td> -144.616</td>\n",
       "</tr>\n",
       "<tr>\n",
       "  <th>C(TV)[T.Medium]</th> <td>  -75.3120</td> <td>    3.624</td> <td>  -20.780</td> <td> 0.000</td> <td>  -82.431</td> <td>  -68.193</td>\n",
       "</tr>\n",
       "<tr>\n",
       "  <th>Radio</th>           <td>    2.9669</td> <td>    0.212</td> <td>   14.015</td> <td> 0.000</td> <td>    2.551</td> <td>    3.383</td>\n",
       "</tr>\n",
       "</table>\n",
       "<table class=\"simpletable\">\n",
       "<tr>\n",
       "  <th>Omnibus:</th>       <td>61.244</td> <th>  Durbin-Watson:     </th> <td>   1.870</td>\n",
       "</tr>\n",
       "<tr>\n",
       "  <th>Prob(Omnibus):</th> <td> 0.000</td> <th>  Jarque-Bera (JB):  </th> <td>  18.077</td>\n",
       "</tr>\n",
       "<tr>\n",
       "  <th>Skew:</th>          <td> 0.046</td> <th>  Prob(JB):          </th> <td>0.000119</td>\n",
       "</tr>\n",
       "<tr>\n",
       "  <th>Kurtosis:</th>      <td> 2.134</td> <th>  Cond. No.          </th> <td>    142.</td>\n",
       "</tr>\n",
       "</table><br/><br/>Warnings:<br/>[1] Standard Errors assume that the covariance matrix of the errors is correctly specified."
      ],
      "text/plain": [
       "<class 'statsmodels.iolib.summary.Summary'>\n",
       "\"\"\"\n",
       "                            OLS Regression Results                            \n",
       "==============================================================================\n",
       "Dep. Variable:                  Sales   R-squared:                       0.904\n",
       "Model:                            OLS   Adj. R-squared:                  0.904\n",
       "Method:                 Least Squares   F-statistic:                     1783.\n",
       "Date:                Wed, 19 Jun 2024   Prob (F-statistic):          1.63e-288\n",
       "Time:                        17:01:52   Log-Likelihood:                -2714.0\n",
       "No. Observations:                 572   AIC:                             5436.\n",
       "Df Residuals:                     568   BIC:                             5453.\n",
       "Df Model:                           3                                         \n",
       "Covariance Type:            nonrobust                                         \n",
       "===================================================================================\n",
       "                      coef    std err          t      P>|t|      [0.025      0.975]\n",
       "-----------------------------------------------------------------------------------\n",
       "Intercept         218.5261      6.261     34.902      0.000     206.228     230.824\n",
       "C(TV)[T.Low]     -154.2971      4.929    -31.303      0.000    -163.979    -144.616\n",
       "C(TV)[T.Medium]   -75.3120      3.624    -20.780      0.000     -82.431     -68.193\n",
       "Radio               2.9669      0.212     14.015      0.000       2.551       3.383\n",
       "==============================================================================\n",
       "Omnibus:                       61.244   Durbin-Watson:                   1.870\n",
       "Prob(Omnibus):                  0.000   Jarque-Bera (JB):               18.077\n",
       "Skew:                           0.046   Prob(JB):                     0.000119\n",
       "Kurtosis:                       2.134   Cond. No.                         142.\n",
       "==============================================================================\n",
       "\n",
       "Warnings:\n",
       "[1] Standard Errors assume that the covariance matrix of the errors is correctly specified.\n",
       "\"\"\""
      ]
     },
     "execution_count": 76,
     "metadata": {},
     "output_type": "execute_result"
    }
   ],
   "source": [
    "results"
   ]
  },
  {
   "cell_type": "markdown",
   "metadata": {
    "id": "c626bd63-c4d3-4925-86e3-f03113021740"
   },
   "source": [
    "## Conclusion"
   ]
  },
  {
   "cell_type": "markdown",
   "metadata": {
    "id": "f3d533b2-4491-449d-be3d-7dd5144fa710"
   },
   "source": [
    "**What are the key takeaways from this lab?**\n",
    "\n",
    "Multiple linear regression is an important powerful tool\n",
    "It tries to estimate the relationship between multiple predictor variables and one continuous output variable\n",
    "Doing EDA is important since it tells us what data to choose and how to use it.\n",
    "\n",
    "**What results can be presented from this lab?**\n",
    "\n",
    "A TV budget marked as Medium leads to a decrease in Sales of 75.3120 million over a TV budget marked as High\n",
    "A TV budget marked as Low leads to a decrease in Sales of 154.2971 million over a TV budget marked as High\n",
    "There is a positive correlation with Radio and a increase if 1 Million dollars in budget of Radio increases Sales by 2.9669 million. Since all p values are 0.0, means that all coefficients are statistically significant.\n",
    "\n",
    "\n",
    "**How would you frame your findings to external stakeholders?**\n",
    "\n",
    "High TV budgets play a major part of Sales. Going from a High to medium TV budget leads to a decrease of 75.3120 million in sales while going down to a low tv budget leads to a decrease of 154.2971 million in sales.\n",
    "\n",
    "So its important to invest in a higher TV budget as well as invest in radio budget to boost sales.\n"
   ]
  },
  {
   "cell_type": "markdown",
   "metadata": {
    "id": "88b01fcc-e016-4cd5-aedc-a71e51276fe2"
   },
   "source": [
    "#### **References**\n",
    "\n",
    "Saragih, H.S. (2020). [*Dummy Marketing and Sales Data*](https://www.kaggle.com/datasets/harrimansaragih/dummy-advertising-and-sales-data)."
   ]
  },
  {
   "cell_type": "markdown",
   "metadata": {},
   "source": [
    "**Congratulations!** You've completed this lab. However, you may not notice a green check mark next to this item on Coursera's platform. Please continue your progress regardless of the check mark. Just click on the \"save\" icon at the top of this notebook to ensure your work has been logged."
   ]
  }
 ],
 "metadata": {
  "colab": {
   "collapsed_sections": [],
   "provenance": []
  },
  "kernelspec": {
   "display_name": "Python 3",
   "language": "python",
   "name": "python3"
  },
  "language_info": {
   "codemirror_mode": {
    "name": "ipython",
    "version": 3
   },
   "file_extension": ".py",
   "mimetype": "text/x-python",
   "name": "python",
   "nbconvert_exporter": "python",
   "pygments_lexer": "ipython3",
   "version": "3.7.6"
  }
 },
 "nbformat": 4,
 "nbformat_minor": 5
}
